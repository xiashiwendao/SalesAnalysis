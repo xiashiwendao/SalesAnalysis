{
 "cells": [
  {
   "cell_type": "code",
   "execution_count": 24,
   "metadata": {},
   "outputs": [],
   "source": [
    "import numpy as np\n",
    "import pandas as pd\n",
    "import time\n",
    "from matplotlib import pyplot as plt\n",
    "import os\n",
    "from collections import OrderedDict\n",
    "\n",
    "data_base = \"C:\\\\Users\\\\wenyang.zhang\\\\Documents\\\\MySpace\\\\Workspace\\\\SalesAnalies\\\\data\\\\csv\""
   ]
  },
  {
   "cell_type": "code",
   "execution_count": 39,
   "metadata": {},
   "outputs": [
    {
     "name": "stdout",
     "output_type": "stream",
     "text": [
      "complete month:  1\n",
      "complete month:  2\n",
      "complete month:  3\n",
      "complete month:  4\n",
      "complete month:  5\n",
      "complete month:  6\n",
      "complete month:  7\n",
      "complete month:  8\n",
      "complete month:  9\n",
      "complete month:  10\n",
      "complete month:  11\n",
      "complete month:  12\n"
     ]
    }
   ],
   "source": [
    "groupall = data.groupby([\"Region\"])\n",
    "#groupall = data.groupby([\"Region\", \"Sub Region\"])\n",
    "# groupall = data.groupby([\"Region\", \"Sub Region\", \"MaterialName (EN)\"])\n",
    "\n",
    "dic = OrderedDict()\n",
    "index = 16\n",
    "month = 1\n",
    "while index > 4:\n",
    "    file_name = \"data({}).csv\".format(index)\n",
    "    #print(\"load data: \", file_name)\n",
    "    file_path = os.path.join(data_base, file_name)\n",
    "    data = pd.read_csv(file_path)\n",
    "    data.drop([\"Unnamed: 0\", \"Outlet No\"], inplace=True, axis=1)\n",
    "    groupData = data.groupby([\"Region\", \"Sub Region\", \"Material No\"])\n",
    "    groupData = groupData.sum()\n",
    "    dic[month] = groupData\n",
    "    print(\"complete month: \", month, \"group size: \", np.shape(groupData))\n",
    "    index -= 1\n",
    "    month += 1"
   ]
  },
  {
   "cell_type": "code",
   "execution_count": 45,
   "metadata": {},
   "outputs": [
    {
     "name": "stdout",
     "output_type": "stream",
     "text": [
      "<class 'pandas.core.frame.DataFrame'>\n",
      "MultiIndex: 1314 entries, (EOC, AnHui, 2022688) to (WOC, WOC4, 2043699)\n",
      "Data columns (total 90 columns):\n",
      "20180101    1314 non-null float64\n",
      "20180102    1314 non-null float64\n",
      "20180103    1314 non-null float64\n",
      "20180104    1314 non-null float64\n",
      "20180105    1314 non-null float64\n",
      "20180106    1314 non-null float64\n",
      "20180107    1314 non-null float64\n",
      "20180108    1314 non-null float64\n",
      "20180109    1314 non-null float64\n",
      "20180110    1314 non-null float64\n",
      "20180111    1314 non-null float64\n",
      "20180112    1314 non-null float64\n",
      "20180113    1314 non-null float64\n",
      "20180114    1314 non-null float64\n",
      "20180115    1314 non-null float64\n",
      "20180116    1314 non-null float64\n",
      "20180117    1314 non-null float64\n",
      "20180118    1314 non-null float64\n",
      "20180119    1314 non-null float64\n",
      "20180120    1314 non-null float64\n",
      "20180121    1314 non-null float64\n",
      "20180122    1314 non-null float64\n",
      "20180123    1314 non-null float64\n",
      "20180124    1314 non-null float64\n",
      "20180125    1314 non-null float64\n",
      "20180126    1314 non-null float64\n",
      "20180127    1314 non-null float64\n",
      "20180128    1314 non-null float64\n",
      "20180129    1314 non-null float64\n",
      "20180130    1314 non-null float64\n",
      "20180131    1314 non-null float64\n",
      "20180201    1314 non-null float64\n",
      "20180202    1314 non-null float64\n",
      "20180203    1314 non-null float64\n",
      "20180204    1314 non-null float64\n",
      "20180205    1314 non-null float64\n",
      "20180206    1314 non-null float64\n",
      "20180207    1314 non-null float64\n",
      "20180208    1314 non-null float64\n",
      "20180209    1314 non-null float64\n",
      "20180210    1314 non-null float64\n",
      "20180211    1314 non-null float64\n",
      "20180212    1314 non-null float64\n",
      "20180213    1314 non-null float64\n",
      "20180214    1314 non-null float64\n",
      "20180215    1314 non-null float64\n",
      "20180216    1314 non-null float64\n",
      "20180217    1314 non-null float64\n",
      "20180218    1314 non-null float64\n",
      "20180219    1314 non-null float64\n",
      "20180220    1314 non-null float64\n",
      "20180221    1314 non-null float64\n",
      "20180222    1314 non-null float64\n",
      "20180223    1314 non-null float64\n",
      "20180224    1314 non-null float64\n",
      "20180225    1314 non-null float64\n",
      "20180226    1314 non-null float64\n",
      "20180227    1314 non-null float64\n",
      "20180228    1314 non-null float64\n",
      "20180301    1314 non-null float64\n",
      "20180302    1314 non-null float64\n",
      "20180303    1314 non-null float64\n",
      "20180304    1314 non-null float64\n",
      "20180305    1314 non-null float64\n",
      "20180306    1314 non-null float64\n",
      "20180307    1314 non-null float64\n",
      "20180308    1314 non-null float64\n",
      "20180309    1314 non-null float64\n",
      "20180310    1314 non-null float64\n",
      "20180311    1314 non-null float64\n",
      "20180312    1314 non-null float64\n",
      "20180313    1314 non-null float64\n",
      "20180314    1314 non-null float64\n",
      "20180315    1314 non-null float64\n",
      "20180316    1314 non-null float64\n",
      "20180317    1314 non-null float64\n",
      "20180318    1314 non-null float64\n",
      "20180319    1314 non-null float64\n",
      "20180320    1314 non-null float64\n",
      "20180321    1314 non-null float64\n",
      "20180322    1314 non-null float64\n",
      "20180323    1314 non-null float64\n",
      "20180324    1314 non-null float64\n",
      "20180325    1314 non-null float64\n",
      "20180326    1314 non-null float64\n",
      "20180327    1314 non-null float64\n",
      "20180328    1314 non-null float64\n",
      "20180329    1314 non-null float64\n",
      "20180330    1314 non-null float64\n",
      "20180331    1314 non-null float64\n",
      "dtypes: float64(90)\n",
      "memory usage: 928.9+ KB\n",
      "None\n"
     ]
    }
   ],
   "source": [
    "data_all1 = dic[1]\n",
    "data_all2 = dic[2]\n",
    "joinColumns = [\"Region\", \"Sub Region\", \"Material No\"]\n",
    "data_all = pd.merge(dic[1], dic[2], on=joinColumns)\n",
    "data_all = pd.merge(data_all, dic[3], on=joinColumns)\n",
    "print(data_all.info())"
   ]
  },
  {
   "cell_type": "code",
   "execution_count": 49,
   "metadata": {},
   "outputs": [
    {
     "name": "stdout",
     "output_type": "stream",
     "text": [
      "(891, 365)\n"
     ]
    }
   ],
   "source": [
    "data_all = dic[1]\n",
    "for i in range(2, 13):\n",
    "    data_all = pd.merge(data_all, dic[i], on=[\"Region\", \"Sub Region\", \"Material No\"])\n",
    "print(np.shape(data_all))\n"
   ]
  },
  {
   "cell_type": "code",
   "execution_count": null,
   "metadata": {},
   "outputs": [],
   "source": []
  },
  {
   "cell_type": "code",
   "execution_count": 38,
   "metadata": {},
   "outputs": [
    {
     "name": "stdout",
     "output_type": "stream",
     "text": [
      "   Unnamed: 0 Region Sub Region       Area  Outlet No Outlet Name Account  \\\n",
      "0           0    EOC      AnHui  HeFeiQuYu   13953003    家乐福合肥长江店     家乐福   \n",
      "1           1    EOC      AnHui  HeFeiQuYu   13953003    家乐福合肥长江店     家乐福   \n",
      "2           2    EOC      AnHui  HeFeiQuYu   13953003    家乐福合肥长江店     家乐福   \n",
      "3           3    EOC      AnHui  HeFeiQuYu   13953003    家乐福合肥长江店     家乐福   \n",
      "4           4    EOC      AnHui  HeFeiQuYu   13953003    家乐福合肥长江店     家乐福   \n",
      "\n",
      "  Product Line(EN) Product Line(CN)  Material No  ... 20180322 20180323  \\\n",
      "0       Enfa Local           Enfa国产      2022760  ...      5.0      NaN   \n",
      "1       Enfa Local           Enfa国产      2022861  ...      NaN     12.0   \n",
      "2       Enfa Local           Enfa国产      2030149  ...      NaN      NaN   \n",
      "3       Enfa Local           Enfa国产      2030921  ...      NaN      NaN   \n",
      "4       Enfa Local           Enfa国产      2041151  ...      NaN      NaN   \n",
      "\n",
      "   20180324  20180325  20180326  20180327  20180328  20180329  20180330  \\\n",
      "0       4.0       NaN       NaN       4.0       NaN       NaN       NaN   \n",
      "1       NaN       NaN       NaN       NaN       NaN       NaN       NaN   \n",
      "2       NaN       NaN       NaN       NaN       NaN       NaN       NaN   \n",
      "3       NaN       NaN       NaN       NaN       NaN       NaN       6.0   \n",
      "4       NaN       NaN       NaN       NaN       NaN       NaN       NaN   \n",
      "\n",
      "   20180331  \n",
      "0       NaN  \n",
      "1       NaN  \n",
      "2       NaN  \n",
      "3       NaN  \n",
      "4       5.0  \n",
      "\n",
      "[5 rows x 43 columns]\n"
     ]
    }
   ],
   "source": [
    "file_name = \"data(14).csv\".format(index)\n",
    "#print(\"load data: \", file_name)\n",
    "file_path = os.path.join(data_base, file_name)\n",
    "data = pd.read_csv(file_path)\n",
    "print(data.head())\n"
   ]
  }
 ],
 "metadata": {
  "kernelspec": {
   "display_name": "Python 3",
   "language": "python",
   "name": "python3"
  },
  "language_info": {
   "codemirror_mode": {
    "name": "ipython",
    "version": 3
   },
   "file_extension": ".py",
   "mimetype": "text/x-python",
   "name": "python",
   "nbconvert_exporter": "python",
   "pygments_lexer": "ipython3",
   "version": "3.7.3"
  }
 },
 "nbformat": 4,
 "nbformat_minor": 2
}
