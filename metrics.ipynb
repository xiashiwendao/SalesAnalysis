{
 "cells": [
  {
   "cell_type": "code",
   "execution_count": 10,
   "metadata": {},
   "outputs": [
    {
     "name": "stdout",
     "output_type": "stream",
     "text": [
      "explained_variance_score:  1.0\n",
      "mean_squared_error:  0.0\n"
     ]
    }
   ],
   "source": [
    "from sklearn.metrics import explained_variance_score\n",
    "from sklearn.metrics import mean_squared_error\n",
    "x_true = [1,2,3,4]\n",
    "y_predict = [1,2,3,4]\n",
    "print(\"explained_variance_score: \", explained_variance_score(x_true, y_predict))\n",
    "print(\"mean_squared_error: \", mean_squared_error(x_true, y_predict))"
   ]
  },
  {
   "cell_type": "code",
   "execution_count": 11,
   "metadata": {},
   "outputs": [
    {
     "name": "stdout",
     "output_type": "stream",
     "text": [
      "explained_variance_score:  0.44999999999999996\n",
      "mean_squared_error:  1.25\n"
     ]
    }
   ],
   "source": [
    "x_true = [1,2,3,4]\n",
    "y_predict = [2,4,3,4]\n",
    "print(\"explained_variance_score: \", explained_variance_score(x_true, y_predict))\n",
    "print(\"mean_squared_error: \", mean_squared_error(x_true, y_predict))"
   ]
  },
  {
   "cell_type": "code",
   "execution_count": 14,
   "metadata": {},
   "outputs": [
    {
     "name": "stdout",
     "output_type": "stream",
     "text": [
      "explained_variance_score:  -8.0\n",
      "mean_squared_error:  67.5\n"
     ]
    }
   ],
   "source": [
    "x_true = [[1],[2],[3],[4]]\n",
    "y_predict = [[4],[8],[12],[16]]\n",
    "print(\"explained_variance_score: \", explained_variance_score(x_true, y_predict))\n",
    "print(\"mean_squared_error: \", mean_squared_error(x_true, y_predict))"
   ]
  },
  {
   "cell_type": "code",
   "execution_count": null,
   "metadata": {},
   "outputs": [],
   "source": []
  }
 ],
 "metadata": {
  "kernelspec": {
   "display_name": "Python 3",
   "language": "python",
   "name": "python3"
  },
  "language_info": {
   "codemirror_mode": {
    "name": "ipython",
    "version": 3
   },
   "file_extension": ".py",
   "mimetype": "text/x-python",
   "name": "python",
   "nbconvert_exporter": "python",
   "pygments_lexer": "ipython3",
   "version": "3.7.3"
  }
 },
 "nbformat": 4,
 "nbformat_minor": 2
}
